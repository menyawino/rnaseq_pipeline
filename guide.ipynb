{
 "cells": [
  {
   "cell_type": "markdown",
   "metadata": {},
   "source": [
    "# RNA-seq Pipeline\n",
    "\n",
    "**Folder Structure**\n",
    "\n",
    "- {**date**}{**project_name**}\n",
    "    - **samples (needs to be added manually)**\n",
    "        \n",
    "        \n",
    "    - analysis\n",
    "        \n",
    "        \n",
    "    - results\n",
    "        \n",
    "        \n",
    "    - **workflow (needs to be added manually)**\n",
    "        \n",
    "        \n",
    "    \n",
    "    📝 Metadata\n",
    "    \n",
    "    📝 Snakefile\n",
    "    \n",
    "    📝 README.md"
   ]
  },
  {
   "cell_type": "markdown",
   "metadata": {},
   "source": [
    "To-Dos\n",
    "\n",
    "- Add indexing and file creation scripts"
   ]
  },
  {
   "cell_type": "markdown",
   "metadata": {},
   "source": [
    "For contributors:\n",
    "- Common Errors and their solution:\n",
    "    - Not all output, log and benchmark files of rule alignment contain the same wildcards. This is crucial though, in order to avoid that two or more jobs write to the same file.\n",
    "        - This error means that there's one of the output, benchmark, and log overwrite each other by not having the same wildcards\n",
    "        - For example, log: {sample}.log is different than {sample}_{lane}.log\n",
    "        - The first would overwrite the sample log with each lane which would delete the previous lane data\n",
    "    - Error: dag2.dot: syntax error in line 1 near 'All'\n",
    "        - the dag.dot file has extra lines in the beginning"
   ]
  }
 ],
 "metadata": {
  "language_info": {
   "name": "python"
  }
 },
 "nbformat": 4,
 "nbformat_minor": 2
}
